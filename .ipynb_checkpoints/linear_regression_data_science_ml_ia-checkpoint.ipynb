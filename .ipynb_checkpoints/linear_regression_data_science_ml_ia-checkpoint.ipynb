{
 "cells": [
  {
   "cell_type": "code",
   "execution_count": null,
   "id": "9dfb4a32-3885-4813-8809-400190903312",
   "metadata": {},
   "outputs": [],
   "source": [
    "import pandas as pd\n",
    "from sklearn.model_selection import train_test_split\n",
    "from sklearn.linear_model import LinearRegression\n",
    "import numpy as np\n",
    "import matplotlib.pyplot as plt"
   ]
  },
  {
   "cell_type": "code",
   "execution_count": null,
   "id": "e2098331-a5c7-43d9-87c9-d89373481e4a",
   "metadata": {},
   "outputs": [],
   "source": [
    "data = pd.read_csv('insurance.csv')"
   ]
  },
  {
   "cell_type": "code",
   "execution_count": null,
   "id": "1824ec0d-8ab1-4dd9-ac42-2d3df7529499",
   "metadata": {},
   "outputs": [],
   "source": [
    "data"
   ]
  },
  {
   "cell_type": "code",
   "execution_count": null,
   "id": "f7ee0941-e13c-4ffe-b204-5662b71f99d3",
   "metadata": {},
   "outputs": [],
   "source": [
    "data.shape[0]"
   ]
  },
  {
   "cell_type": "code",
   "execution_count": null,
   "id": "54302efb-1201-4648-9cca-20fc88a44bb7",
   "metadata": {},
   "outputs": [],
   "source": [
    "data.dropna(inplace = True)"
   ]
  },
  {
   "cell_type": "code",
   "execution_count": null,
   "id": "f19e33b4-e561-430c-a9fc-44a94dc916af",
   "metadata": {},
   "outputs": [],
   "source": [
    "data.shape[0]"
   ]
  },
  {
   "cell_type": "code",
   "execution_count": null,
   "id": "b0c21766-b180-4bb3-bec7-ede8a2ce3689",
   "metadata": {},
   "outputs": [],
   "source": [
    "data.drop_duplicates(inplace = True)"
   ]
  },
  {
   "cell_type": "code",
   "execution_count": null,
   "id": "e0e33700-38e8-4c7f-884b-94f9298f277b",
   "metadata": {},
   "outputs": [],
   "source": [
    "data"
   ]
  },
  {
   "cell_type": "code",
   "execution_count": null,
   "id": "01722f7c-7943-4760-b794-d6dcfc425e29",
   "metadata": {},
   "outputs": [],
   "source": [
    "data.info()"
   ]
  },
  {
   "cell_type": "markdown",
   "id": "2a0881bf-825f-4e64-b6f3-ead2b86023af",
   "metadata": {},
   "source": [
    "Criar uma visualização do algoritmo de Machine Learning Linear Regression com a lib Python para ML e IA scikit-learn."
   ]
  },
  {
   "cell_type": "markdown",
   "id": "5f25b763-38d4-4ec6-84e8-284b6b6c9685",
   "metadata": {},
   "source": [
    "bmi = Body mass index"
   ]
  },
  {
   "cell_type": "markdown",
   "id": "c084c60f-3c29-40d5-8cb3-c63ce486f3f1",
   "metadata": {},
   "source": [
    "### Criação de uma regressão simples entre bmi e age"
   ]
  },
  {
   "cell_type": "code",
   "execution_count": null,
   "id": "1a8e2c5b-7259-412a-99ff-0bb17f4b3fbb",
   "metadata": {},
   "outputs": [],
   "source": [
    "X = data.age.array.reshape(-1, 1) # Convertendo para array bidimensional\n",
    "y = data.bmi.array\n",
    "\n",
    "# Dividindo o dataset entre treino e teste\n",
    "X_train, X_test, y_train, y_test = train_test_split(X, y, test_size=1/3, random_state=0)\n",
    "# Ajustando o modelo de Regressão Linear para o dataset de treino\n",
    "regressor = LinearRegression()\n",
    "regressor.fit(X_train, y_train)\n",
    "\n",
    "y_pred=regressor.predict(X_test)"
   ]
  },
  {
   "cell_type": "markdown",
   "id": "acc045c7-d454-4776-88d1-b758d0352f5b",
   "metadata": {},
   "source": [
    "### Criação dos gráfico"
   ]
  },
  {
   "cell_type": "code",
   "execution_count": null,
   "id": "0a2c72e2-934f-44c3-9b3f-b645cf4b4404",
   "metadata": {},
   "outputs": [],
   "source": [
    "# Visualizar os resultados de treino\n",
    "plt.figure(figsize=(15, 8))\n",
    "plt.plot(X_test, y_test, 'Dr')\n",
    "plt.plot(X_train, regressor.predict(X_train), color='blue')\n",
    "plt.title('Idade X Índice de massa corporal')\n",
    "plt.xlabel('Idade')\n",
    "plt.ylabel('Índice de massa corporal')\n",
    "plt.show()"
   ]
  },
  {
   "cell_type": "code",
   "execution_count": null,
   "id": "b1f1f0a2-5e33-4140-aeb1-328df1d1e4d0",
   "metadata": {
    "editable": true,
    "slideshow": {
     "slide_type": ""
    },
    "tags": []
   },
   "outputs": [],
   "source": []
  }
 ],
 "metadata": {
  "kernelspec": {
   "display_name": "Python 3 (ipykernel)",
   "language": "python",
   "name": "python3"
  },
  "language_info": {
   "codemirror_mode": {
    "name": "ipython",
    "version": 3
   },
   "file_extension": ".py",
   "mimetype": "text/x-python",
   "name": "python",
   "nbconvert_exporter": "python",
   "pygments_lexer": "ipython3",
   "version": "3.11.7"
  },
  "widgets": {
   "application/vnd.jupyter.widget-state+json": {
    "state": {},
    "version_major": 2,
    "version_minor": 0
   }
  }
 },
 "nbformat": 4,
 "nbformat_minor": 5
}
